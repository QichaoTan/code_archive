{
 "cells": [
  {
   "cell_type": "code",
   "execution_count": 16,
   "metadata": {},
   "outputs": [],
   "source": [
    "from Bio import SeqIO\n",
    "from Bio.SeqRecord import SeqRecord\n",
    "from Bio.Seq import Seq"
   ]
  },
  {
   "cell_type": "code",
   "execution_count": 10,
   "metadata": {},
   "outputs": [],
   "source": [
    "# This is a SNP finder for phylip aligned file\n",
    "\n",
    "# Input: \n",
    "# 1. Aligned Phylip file\n",
    "#Output:\n",
    "# 1. A aligned fasta file containing only SNP locations sequence"
   ]
  },
  {
   "cell_type": "code",
   "execution_count": 11,
   "metadata": {},
   "outputs": [],
   "source": [
    "PATH_seq = 'COX3_ASV_hard.phy'"
   ]
  },
  {
   "cell_type": "code",
   "execution_count": 12,
   "metadata": {},
   "outputs": [],
   "source": [
    "with open(PATH_seq,'r') as handle:\n",
    "    record_dict = {}\n",
    "    records = SeqIO.parse(handle,'phylip')\n",
    "    for record in records:\n",
    "        record_dict.update({record.name:record.seq}) "
   ]
  },
  {
   "cell_type": "code",
   "execution_count": 13,
   "metadata": {},
   "outputs": [
    {
     "name": "stdout",
     "output_type": "stream",
     "text": [
      "SNP found at position 24 and the SNP is composed by {'G', 'T'}\n",
      "SNP found at position 32 and the SNP is composed by {'G', 'A'}\n",
      "SNP found at position 44 and the SNP is composed by {'G', 'A'}\n",
      "SNP found at position 65 and the SNP is composed by {'G', 'A'}\n",
      "SNP found at position 79 and the SNP is composed by {'G', 'A'}\n",
      "SNP found at position 80 and the SNP is composed by {'G', 'T', 'C'}\n",
      "SNP found at position 86 and the SNP is composed by {'T', 'C'}\n",
      "SNP found at position 103 and the SNP is composed by {'G', 'A'}\n",
      "SNP found at position 104 and the SNP is composed by {'T', 'C'}\n",
      "SNP found at position 105 and the SNP is composed by {'T', 'C'}\n",
      "SNP found at position 108 and the SNP is composed by {'T', 'C'}\n",
      "SNP found at position 110 and the SNP is composed by {'G', 'A'}\n",
      "SNP found at position 160 and the SNP is composed by {'T', 'C'}\n",
      "SNP found at position 176 and the SNP is composed by {'T', 'C'}\n"
     ]
    }
   ],
   "source": [
    "seq_length = max([len(str(seq)) for seq in record_dict.values()])\n",
    "SNP_loci = []\n",
    "for index in range(seq_length):\n",
    "    nucleotide = set()\n",
    "    for record in record_dict.values():\n",
    "        nucleotide.add(record[index])\n",
    "    if len(nucleotide) > 1:\n",
    "        print(f'SNP found at position {index} and the SNP is composed by {nucleotide}')\n",
    "        SNP_loci.append(index)"
   ]
  },
  {
   "cell_type": "code",
   "execution_count": 14,
   "metadata": {},
   "outputs": [],
   "source": [
    "ASV_list = []\n",
    "Seq_list = []\n",
    "for ASV_name, Seq in record_dict.items():\n",
    "    record = []\n",
    "    record = [Seq[loci] for loci in SNP_loci]\n",
    "    ASV_list.append(ASV_name)\n",
    "    Seq_list.append(''.join(record))\n",
    "\n",
    "SNP_dict = dict(zip(ASV_list, Seq_list))"
   ]
  },
  {
   "cell_type": "code",
   "execution_count": 17,
   "metadata": {},
   "outputs": [],
   "source": [
    "with open(\"Aligned_SNP.fasta\",'w') as handle:\n",
    "    for id, seq in SNP_dict.items():\n",
    "        record = SeqRecord(seq= Seq(seq),\n",
    "                           description = id,\n",
    "                           id = id)\n",
    "        SeqIO.write(record, handle,'fasta')"
   ]
  }
 ],
 "metadata": {
  "kernelspec": {
   "display_name": "Python 3",
   "language": "python",
   "name": "python3"
  },
  "language_info": {
   "codemirror_mode": {
    "name": "ipython",
    "version": 3
   },
   "file_extension": ".py",
   "mimetype": "text/x-python",
   "name": "python",
   "nbconvert_exporter": "python",
   "pygments_lexer": "ipython3",
   "version": "3.10.9"
  }
 },
 "nbformat": 4,
 "nbformat_minor": 2
}
