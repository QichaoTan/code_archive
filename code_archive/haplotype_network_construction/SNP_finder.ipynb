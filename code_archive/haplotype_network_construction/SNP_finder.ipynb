{
 "cells": [
  {
   "cell_type": "code",
   "execution_count": 1,
   "metadata": {},
   "outputs": [],
   "source": [
    "from Bio import SeqIO\n",
    "from Bio.SeqRecord import SeqRecord"
   ]
  },
  {
   "cell_type": "code",
   "execution_count": 2,
   "metadata": {},
   "outputs": [],
   "source": [
    "# This is a SNP finder for phylip aligned file\n",
    "\n",
    "# Input: \n",
    "# 1. Aligned Phylip file\n",
    "#Output:\n",
    "# 1. A aligned fasta file containing only SNP locations sequence"
   ]
  },
  {
   "cell_type": "code",
   "execution_count": 3,
   "metadata": {},
   "outputs": [],
   "source": [
    "PATH_seq = 'COX3_ASV_hard.phy'"
   ]
  },
  {
   "cell_type": "code",
   "execution_count": 4,
   "metadata": {},
   "outputs": [],
   "source": [
    "with open(PATH_seq,'r') as handle:\n",
    "    record_dict = {}\n",
    "    records = SeqIO.parse(handle,'phylip')\n",
    "    for record in records:\n",
    "        record_dict.update({record.name:record.seq}) "
   ]
  },
  {
   "cell_type": "code",
   "execution_count": 5,
   "metadata": {},
   "outputs": [
    {
     "name": "stdout",
     "output_type": "stream",
     "text": [
      "SNP found at position 24 and the SNP is composed by {'G', 'T'}\n",
      "SNP found at position 32 and the SNP is composed by {'G', 'A'}\n",
      "SNP found at position 44 and the SNP is composed by {'G', 'A'}\n",
      "SNP found at position 65 and the SNP is composed by {'G', 'A'}\n",
      "SNP found at position 79 and the SNP is composed by {'G', 'A'}\n",
      "SNP found at position 80 and the SNP is composed by {'G', 'T', 'C'}\n",
      "SNP found at position 86 and the SNP is composed by {'T', 'C'}\n",
      "SNP found at position 103 and the SNP is composed by {'G', 'A'}\n",
      "SNP found at position 104 and the SNP is composed by {'T', 'C'}\n",
      "SNP found at position 105 and the SNP is composed by {'T', 'C'}\n",
      "SNP found at position 108 and the SNP is composed by {'T', 'C'}\n",
      "SNP found at position 110 and the SNP is composed by {'G', 'A'}\n",
      "SNP found at position 160 and the SNP is composed by {'T', 'C'}\n",
      "SNP found at position 176 and the SNP is composed by {'T', 'C'}\n"
     ]
    }
   ],
   "source": [
    "seq_length = max([len(str(seq)) for seq in record_dict.values()])\n",
    "SNP_loci = []\n",
    "for index in range(seq_length):\n",
    "    nucleotide = set()\n",
    "    for record in record_dict.values():\n",
    "        nucleotide.add(record[index])\n",
    "    if len(nucleotide) > 1:\n",
    "        print(f'SNP found at position {index} and the SNP is composed by {nucleotide}')\n",
    "        SNP_loci.append(index)"
   ]
  },
  {
   "cell_type": "code",
   "execution_count": 6,
   "metadata": {},
   "outputs": [],
   "source": [
    "ASV_list = []\n",
    "Seq_list = []\n",
    "for ASV_name, Seq in record_dict.items():\n",
    "    record = []\n",
    "    record = [Seq[loci] for loci in SNP_loci]\n",
    "    ASV_list.append(ASV_name)\n",
    "    Seq_list.append(''.join(record))\n",
    "\n",
    "SNP_dict = dict(zip(ASV_list, Seq_list))"
   ]
  },
  {
   "cell_type": "code",
   "execution_count": 8,
   "metadata": {},
   "outputs": [
    {
     "ename": "TypeError",
     "evalue": "SeqRecord (id=ASV7) has an invalid sequence.",
     "output_type": "error",
     "traceback": [
      "\u001b[0;31m---------------------------------------------------------------------------\u001b[0m",
      "\u001b[0;31mTypeError\u001b[0m                                 Traceback (most recent call last)",
      "File \u001b[0;32m~/anaconda3/lib/python3.10/site-packages/Bio/File.py:72\u001b[0m, in \u001b[0;36mas_handle\u001b[0;34m(handleish, mode, **kwargs)\u001b[0m\n\u001b[1;32m     71\u001b[0m \u001b[39mtry\u001b[39;00m:\n\u001b[0;32m---> 72\u001b[0m     \u001b[39mwith\u001b[39;00m \u001b[39mopen\u001b[39;49m(handleish, mode, \u001b[39m*\u001b[39;49m\u001b[39m*\u001b[39;49mkwargs) \u001b[39mas\u001b[39;00m fp:\n\u001b[1;32m     73\u001b[0m         \u001b[39myield\u001b[39;00m fp\n",
      "\u001b[0;31mTypeError\u001b[0m: expected str, bytes or os.PathLike object, not TextIOWrapper",
      "\nDuring handling of the above exception, another exception occurred:\n",
      "\u001b[0;31mTypeError\u001b[0m                                 Traceback (most recent call last)",
      "\u001b[1;32m/Users/qichaotan/code_archive/code_archive/haplotype_network_construction/SNP_finder.ipynb Cell 7\u001b[0m line \u001b[0;36m6\n\u001b[1;32m      <a href='vscode-notebook-cell:/Users/qichaotan/code_archive/code_archive/haplotype_network_construction/SNP_finder.ipynb#W6sZmlsZQ%3D%3D?line=1'>2</a>\u001b[0m \u001b[39mfor\u001b[39;00m \u001b[39mid\u001b[39m, seq \u001b[39min\u001b[39;00m SNP_dict\u001b[39m.\u001b[39mitems():\n\u001b[1;32m      <a href='vscode-notebook-cell:/Users/qichaotan/code_archive/code_archive/haplotype_network_construction/SNP_finder.ipynb#W6sZmlsZQ%3D%3D?line=2'>3</a>\u001b[0m     record \u001b[39m=\u001b[39m SeqRecord(seq\u001b[39m=\u001b[39m seq,\n\u001b[1;32m      <a href='vscode-notebook-cell:/Users/qichaotan/code_archive/code_archive/haplotype_network_construction/SNP_finder.ipynb#W6sZmlsZQ%3D%3D?line=3'>4</a>\u001b[0m                        description \u001b[39m=\u001b[39m \u001b[39mid\u001b[39m,\n\u001b[1;32m      <a href='vscode-notebook-cell:/Users/qichaotan/code_archive/code_archive/haplotype_network_construction/SNP_finder.ipynb#W6sZmlsZQ%3D%3D?line=4'>5</a>\u001b[0m                        \u001b[39mid\u001b[39m \u001b[39m=\u001b[39m \u001b[39mid\u001b[39m)\n\u001b[0;32m----> <a href='vscode-notebook-cell:/Users/qichaotan/code_archive/code_archive/haplotype_network_construction/SNP_finder.ipynb#W6sZmlsZQ%3D%3D?line=5'>6</a>\u001b[0m     SeqIO\u001b[39m.\u001b[39;49mwrite(record, handle,\u001b[39m'\u001b[39;49m\u001b[39mfasta\u001b[39;49m\u001b[39m'\u001b[39;49m)\n",
      "File \u001b[0;32m~/anaconda3/lib/python3.10/site-packages/Bio/SeqIO/__init__.py:518\u001b[0m, in \u001b[0;36mwrite\u001b[0;34m(sequences, handle, format)\u001b[0m\n\u001b[1;32m    516\u001b[0m \u001b[39mwith\u001b[39;00m as_handle(handle, \u001b[39m\"\u001b[39m\u001b[39mw\u001b[39m\u001b[39m\"\u001b[39m) \u001b[39mas\u001b[39;00m fp:\n\u001b[1;32m    517\u001b[0m     \u001b[39mfor\u001b[39;00m record \u001b[39min\u001b[39;00m sequences:\n\u001b[0;32m--> 518\u001b[0m         fp\u001b[39m.\u001b[39mwrite(format_function(record))\n\u001b[1;32m    519\u001b[0m         count \u001b[39m+\u001b[39m\u001b[39m=\u001b[39m \u001b[39m1\u001b[39m\n\u001b[1;32m    520\u001b[0m \u001b[39mreturn\u001b[39;00m count\n",
      "File \u001b[0;32m~/anaconda3/lib/python3.10/site-packages/Bio/SeqIO/FastaIO.py:429\u001b[0m, in \u001b[0;36mas_fasta\u001b[0;34m(record)\u001b[0m\n\u001b[1;32m    426\u001b[0m \u001b[39massert\u001b[39;00m \u001b[39m\"\u001b[39m\u001b[39m\\r\u001b[39;00m\u001b[39m\"\u001b[39m \u001b[39mnot\u001b[39;00m \u001b[39min\u001b[39;00m title\n\u001b[1;32m    427\u001b[0m lines \u001b[39m=\u001b[39m [\u001b[39mf\u001b[39m\u001b[39m\"\u001b[39m\u001b[39m>\u001b[39m\u001b[39m{\u001b[39;00mtitle\u001b[39m}\u001b[39;00m\u001b[39m\\n\u001b[39;00m\u001b[39m\"\u001b[39m]\n\u001b[0;32m--> 429\u001b[0m data \u001b[39m=\u001b[39m _get_seq_string(record)  \u001b[39m# Catches sequence being None\u001b[39;00m\n\u001b[1;32m    430\u001b[0m \u001b[39massert\u001b[39;00m \u001b[39m\"\u001b[39m\u001b[39m\\n\u001b[39;00m\u001b[39m\"\u001b[39m \u001b[39mnot\u001b[39;00m \u001b[39min\u001b[39;00m data\n\u001b[1;32m    431\u001b[0m \u001b[39massert\u001b[39;00m \u001b[39m\"\u001b[39m\u001b[39m\\r\u001b[39;00m\u001b[39m\"\u001b[39m \u001b[39mnot\u001b[39;00m \u001b[39min\u001b[39;00m data\n",
      "File \u001b[0;32m~/anaconda3/lib/python3.10/site-packages/Bio/SeqIO/Interfaces.py:107\u001b[0m, in \u001b[0;36m_get_seq_string\u001b[0;34m(record)\u001b[0m\n\u001b[1;32m    105\u001b[0m     \u001b[39mraise\u001b[39;00m \u001b[39mTypeError\u001b[39;00m(\u001b[39mf\u001b[39m\u001b[39m\"\u001b[39m\u001b[39mSeqRecord (id=\u001b[39m\u001b[39m{\u001b[39;00mrecord\u001b[39m.\u001b[39mid\u001b[39m}\u001b[39;00m\u001b[39m) has None for its sequence.\u001b[39m\u001b[39m\"\u001b[39m)\n\u001b[1;32m    106\u001b[0m \u001b[39melif\u001b[39;00m \u001b[39mnot\u001b[39;00m \u001b[39misinstance\u001b[39m(record\u001b[39m.\u001b[39mseq, (Seq, MutableSeq)):\n\u001b[0;32m--> 107\u001b[0m     \u001b[39mraise\u001b[39;00m \u001b[39mTypeError\u001b[39;00m(\u001b[39mf\u001b[39m\u001b[39m\"\u001b[39m\u001b[39mSeqRecord (id=\u001b[39m\u001b[39m{\u001b[39;00mrecord\u001b[39m.\u001b[39mid\u001b[39m}\u001b[39;00m\u001b[39m) has an invalid sequence.\u001b[39m\u001b[39m\"\u001b[39m)\n\u001b[1;32m    108\u001b[0m \u001b[39mreturn\u001b[39;00m \u001b[39mstr\u001b[39m(record\u001b[39m.\u001b[39mseq)\n",
      "\u001b[0;31mTypeError\u001b[0m: SeqRecord (id=ASV7) has an invalid sequence."
     ]
    }
   ],
   "source": [
    "with open(\"Aligned_SNP.fasta\",'w') as handle:\n",
    "    for id, seq in SNP_dict.items():\n",
    "        record = SeqRecord(seq= seq,\n",
    "                           description = id,\n",
    "                           id = id)\n",
    "        SeqIO.write(record, handle,'fasta')"
   ]
  }
 ],
 "metadata": {
  "kernelspec": {
   "display_name": "Python 3",
   "language": "python",
   "name": "python3"
  },
  "language_info": {
   "codemirror_mode": {
    "name": "ipython",
    "version": 3
   },
   "file_extension": ".py",
   "mimetype": "text/x-python",
   "name": "python",
   "nbconvert_exporter": "python",
   "pygments_lexer": "ipython3",
   "version": "3.10.9"
  }
 },
 "nbformat": 4,
 "nbformat_minor": 2
}
