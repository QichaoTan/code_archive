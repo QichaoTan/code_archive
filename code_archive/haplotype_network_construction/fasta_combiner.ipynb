{
 "cells": [
  {
   "cell_type": "code",
   "execution_count": 6,
   "metadata": {},
   "outputs": [],
   "source": [
    "from Bio import SeqIO\n",
    "import os"
   ]
  },
  {
   "cell_type": "code",
   "execution_count": 7,
   "metadata": {},
   "outputs": [],
   "source": [
    "os.chdir(r'/home/qichaotan/COX3/OUTPUT')\n",
    "file_list = os.listdir()\n",
    "\n",
    "for i in file_list:\n",
    "    lane = i.split('_')[1]\n",
    "    counter = 1 \n",
    "    with open('/home/qichaotan/COX3/OUTPUT/Combined.fasta','a') as output_handle:\n",
    "        with open(i,'r') as input_handle:\n",
    "            records = SeqIO.parse(input_handle,'fasta')\n",
    "            for record in records:\n",
    "                record.id = lane + '_'+ str(counter)\n",
    "                counter += 1\n",
    "                SeqIO.write(record, output_handle, 'fasta')\n",
    "                \n",
    "            "
   ]
  }
 ],
 "metadata": {
  "kernelspec": {
   "display_name": "Python 3",
   "language": "python",
   "name": "python3"
  },
  "language_info": {
   "codemirror_mode": {
    "name": "ipython",
    "version": 3
   },
   "file_extension": ".py",
   "mimetype": "text/x-python",
   "name": "python",
   "nbconvert_exporter": "python",
   "pygments_lexer": "ipython3",
   "version": "3.10.12"
  }
 },
 "nbformat": 4,
 "nbformat_minor": 2
}
