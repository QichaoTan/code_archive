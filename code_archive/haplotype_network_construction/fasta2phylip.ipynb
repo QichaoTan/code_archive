{
 "cells": [
  {
   "cell_type": "code",
   "execution_count": 2,
   "metadata": {},
   "outputs": [],
   "source": [
    "import os \n",
    "from Bio import SeqIO"
   ]
  },
  {
   "cell_type": "code",
   "execution_count": 2,
   "metadata": {},
   "outputs": [],
   "source": [
    "with open('/home/qichaotan/aligned.phylip','a') as output_handle:\n",
    "    with open('/home/qichaotan/muscle/Align.fasta','r') as input_handle:\n",
    "        SeqIO.convert(input_handle,'fasta',output_handle,'phylip')\n"
   ]
  },
  {
   "cell_type": "code",
   "execution_count": 7,
   "metadata": {},
   "outputs": [],
   "source": [
    "with open('COX3_ASV_fastHaN_format.phy','w') as output_handle:\n",
    "    with open('COX3_ASV_soft.phy','r') as input_handle:\n",
    "        records = SeqIO.parse(input_handle,'phylip')\n",
    "        counter = 0\n",
    "        for record in records:\n",
    "            length = len(record.seq)\n",
    "            counter += 1\n",
    "        output_handle.write(f'{counter} {length}\\n')\n",
    "        \n",
    "with open('COX3_ASV_fastHaN_format.phy','a') as output_handle:\n",
    "    with open('COX3_ASV_soft.phy','r') as input_handle:        \n",
    "        records = SeqIO.parse(input_handle,'phylip')\n",
    "        for record in records:\n",
    "            output_handle.write(f'{record.id} {record.seq}\\n')"
   ]
  }
 ],
 "metadata": {
  "kernelspec": {
   "display_name": "Python 3",
   "language": "python",
   "name": "python3"
  },
  "language_info": {
   "codemirror_mode": {
    "name": "ipython",
    "version": 3
   },
   "file_extension": ".py",
   "mimetype": "text/x-python",
   "name": "python",
   "nbconvert_exporter": "python",
   "pygments_lexer": "ipython3",
   "version": "3.10.12"
  }
 },
 "nbformat": 4,
 "nbformat_minor": 2
}
