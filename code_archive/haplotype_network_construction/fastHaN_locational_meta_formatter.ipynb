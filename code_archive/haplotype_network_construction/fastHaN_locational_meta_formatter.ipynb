{
 "cells": [
  {
   "cell_type": "code",
   "execution_count": 11,
   "metadata": {},
   "outputs": [],
   "source": [
    "import csv\n",
    "from Bio import SeqIO"
   ]
  },
  {
   "cell_type": "code",
   "execution_count": 12,
   "metadata": {},
   "outputs": [],
   "source": [
    "with open('/home/qichaotan/code_archive/code_archive/haplotype_network_construction/COX3_ASV_soft.phy','r') as handle:\n",
    "    records = SeqIO.parse(handle,'phylip')\n",
    "    id_list = [record.id for record in records]\n",
    "\n",
    "with open('/home/qichaotan/code_archive/code_archive/haplotype_network_construction/cox3_classifier.csv','r') as handle:\n",
    "    records = csv.DictReader(handle)\n",
    "    locations = [record for record in records]"
   ]
  },
  {
   "cell_type": "code",
   "execution_count": 16,
   "metadata": {},
   "outputs": [],
   "source": [
    "with open('/home/qichaotan/locational_Geographical_devision.meta','w') as handle:\n",
    "    for i in id_list:\n",
    "        for location in locations:\n",
    "            if i.split('_')[1] == location['Indexes']:\n",
    "                handle.write(f'{i}\\t{location[\"Geographical\"]}\\n')"
   ]
  },
  {
   "cell_type": "code",
   "execution_count": 14,
   "metadata": {},
   "outputs": [],
   "source": [
    "with open('/home/qichaotan/locational_depth_devision.meta','w') as handle:\n",
    "    for i in id_list:\n",
    "        for location in locations:\n",
    "            if i.split('_')[1] == location['Indexes']:\n",
    "                handle.write(f'{i}\\t{location[\"Depth\"]}\\n')"
   ]
  },
  {
   "cell_type": "code",
   "execution_count": 15,
   "metadata": {},
   "outputs": [],
   "source": [
    "with open('/home/qichaotan/locational_location_devision.meta','w') as handle:\n",
    "    for i in id_list:\n",
    "        for location in locations:\n",
    "            if i.split('_')[1] == location['Indexes']:\n",
    "                handle.write(f'{i}\\t{location[\"Location\"]}\\n')"
   ]
  }
 ],
 "metadata": {
  "kernelspec": {
   "display_name": "Python 3",
   "language": "python",
   "name": "python3"
  },
  "language_info": {
   "codemirror_mode": {
    "name": "ipython",
    "version": 3
   },
   "file_extension": ".py",
   "mimetype": "text/x-python",
   "name": "python",
   "nbconvert_exporter": "python",
   "pygments_lexer": "ipython3",
   "version": "3.10.12"
  }
 },
 "nbformat": 4,
 "nbformat_minor": 2
}
