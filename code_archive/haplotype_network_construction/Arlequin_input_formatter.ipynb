{
 "cells": [
  {
   "cell_type": "code",
   "execution_count": 1,
   "metadata": {},
   "outputs": [],
   "source": [
    "from Bio import SeqIO\n",
    "import csv"
   ]
  },
  {
   "cell_type": "code",
   "execution_count": 2,
   "metadata": {},
   "outputs": [],
   "source": [
    "PATH_ASV_table = \"Cleaned_ASV_table.csv\"\n",
    "PATH_ASV_fasta = \"COX3_ASV_hard.fasta\""
   ]
  },
  {
   "cell_type": "code",
   "execution_count": 3,
   "metadata": {},
   "outputs": [],
   "source": [
    "ASV_dict = {}\n",
    "with open(PATH_ASV_fasta,'r') as handle:\n",
    "    records = SeqIO.parse(handle,'fasta')\n",
    "    for record in records:\n",
    "        ASV_dict.update({record.name:record.seq})\n",
    "\n",
    "with open(PATH_ASV_table,'r') as handle:\n",
    "    rows = csv.DictReader(handle)\n",
    "    ASV_copy_dict = dict()\n",
    "    for row in rows:\n",
    "        site_ASV_copy_dict = dict()\n",
    "        location =  row[\"Site\"]\n",
    "        row.pop(\"Site\")\n",
    "        site_ASV_copy_dict.update({key:value for key, value in row.items() if int(value) != 0 and key in ASV_dict.keys()})\n",
    "        ASV_copy_dict.update({location:site_ASV_copy_dict})"
   ]
  },
  {
   "cell_type": "code",
   "execution_count": 19,
   "metadata": {},
   "outputs": [],
   "source": [
    "linesep = '\\n\\t'\n",
    "Arlequin_header = f\"[Profile]{linesep}Title=title{linesep}NbSamples=index_num{linesep}GenotypeData=1{linesep}GameticPhase=0{linesep}DataType=STANDARD{linesep}LocusSeparator=NONE{linesep}MissingData='?'\""
   ]
  },
  {
   "cell_type": "code",
   "execution_count": 14,
   "metadata": {},
   "outputs": [],
   "source": [
    "title = \"COX3\"\n",
    "sample_num = len(list(ASV_copy_dict.keys()))\n",
    "GenotypicData=0\n",
    "LocusSeparation=\"NONE\"\n",
    "DataType=\"DNA\"\n",
    "MissingData=\"?\""
   ]
  },
  {
   "cell_type": "code",
   "execution_count": 15,
   "metadata": {},
   "outputs": [],
   "source": [
    "lines_list = [f\"Title=\\\"{title}\\\"\",\n",
    "              f\"NbSamples={sample_num}\",\n",
    "              f\"GenotypicData={GenotypicData}\",\n",
    "              f\"DataType={DataType}\",\n",
    "              f\"LocusSeparator={LocusSeparation}\",\n",
    "              f\"MissingData={MissingData}\"]"
   ]
  },
  {
   "cell_type": "code",
   "execution_count": 16,
   "metadata": {},
   "outputs": [
    {
     "name": "stdout",
     "output_type": "stream",
     "text": [
      "Title=\"COX3\"\n",
      "NbSamples=66\n",
      "GenotypicData=0\n",
      "DataType=DNA\n",
      "LocusSeparator=WHITESPACE\n",
      "MissingData=?\n"
     ]
    }
   ],
   "source": [
    "for i in lines_list:\n",
    "    print(i)"
   ]
  }
 ],
 "metadata": {
  "kernelspec": {
   "display_name": "base",
   "language": "python",
   "name": "python3"
  },
  "language_info": {
   "codemirror_mode": {
    "name": "ipython",
    "version": 3
   },
   "file_extension": ".py",
   "mimetype": "text/x-python",
   "name": "python",
   "nbconvert_exporter": "python",
   "pygments_lexer": "ipython3",
   "version": "3.9.19"
  }
 },
 "nbformat": 4,
 "nbformat_minor": 2
}
