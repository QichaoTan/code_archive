{
 "cells": [
  {
   "cell_type": "code",
   "execution_count": 49,
   "metadata": {},
   "outputs": [],
   "source": [
    "from Bio import SeqIO\n",
    "import csv"
   ]
  },
  {
   "cell_type": "code",
   "execution_count": 50,
   "metadata": {},
   "outputs": [],
   "source": [
    "# From ASV/OTU table to Arlequin's arq file(.arq)\n",
    "# Input: 1. ASV/OTU table in csv format for all your sample. Columns for the ASVs/OTUs. Rows for the samples.\n",
    "#        2. A fasta file for mapper from ASV to specific sequences.\n",
    "# Output: 1. Arlequin file for software input  "
   ]
  },
  {
   "cell_type": "code",
   "execution_count": 51,
   "metadata": {},
   "outputs": [],
   "source": [
    "# PATH for ASV/OTU table and fasta file for mapper\n",
    "\n",
    "PATH_ASV_table = \"Cleaned_ASV_table.csv\"\n",
    "PATH_ASV_fasta = \"COX3_ASV_hard.fasta\""
   ]
  },
  {
   "cell_type": "code",
   "execution_count": 52,
   "metadata": {},
   "outputs": [],
   "source": [
    "# Change the variables here to change the info in heades of the arlequin file\n",
    "\n",
    "title = \"COX3\"\n",
    "sample_num = len(list(ASV_copy_dict.keys()))\n",
    "GenotypicData=0\n",
    "LocusSeparation=\"NONE\"\n",
    "DataType=\"DNA\"\n",
    "MissingData=\"?\"\n",
    "\n",
    "indent = \"\\t\""
   ]
  },
  {
   "cell_type": "code",
   "execution_count": 53,
   "metadata": {},
   "outputs": [],
   "source": [
    "#Extracting and cleaning all the useful info from ASV table and fasta file\n",
    "\n",
    "ASV_dict = {}\n",
    "with open(PATH_ASV_fasta,'r') as handle:\n",
    "    records = SeqIO.parse(handle,'fasta')\n",
    "    for record in records:\n",
    "        ASV_dict.update({record.name:record.seq})\n",
    "\n",
    "with open(PATH_ASV_table,'r') as handle:\n",
    "    rows = csv.DictReader(handle)\n",
    "    ASV_copy_dict = dict()\n",
    "    for row in rows:\n",
    "        site_ASV_copy_dict = dict()\n",
    "        location =  row[\"Site\"]\n",
    "        row.pop(\"Site\")\n",
    "        site_ASV_copy_dict.update({key:int(value) for key, value in row.items() if int(value) != 0 and key in ASV_dict.keys()})\n",
    "        ASV_copy_dict.update({location:site_ASV_copy_dict})"
   ]
  },
  {
   "cell_type": "code",
   "execution_count": 54,
   "metadata": {},
   "outputs": [],
   "source": [
    "# Create a list for the header rows\n",
    "\n",
    "header_lines = [f\"[Profile]\",\n",
    "          f\"{indent}Title=\\\"{title}\\\"\",\n",
    "          f\"{indent}NbSamples={sample_num}\",\n",
    "          f\"{indent}GenotypicData={GenotypicData}\",\n",
    "          f\"{indent}DataType={DataType}\",\n",
    "          f\"{indent}LocusSeparator={LocusSeparation}\",\n",
    "          f\"{indent}MissingData={MissingData}\"]"
   ]
  },
  {
   "cell_type": "code",
   "execution_count": 55,
   "metadata": {},
   "outputs": [],
   "source": [
    "# Write sample lines\n",
    "\n",
    "i = 0\n",
    "reads_list = []\n",
    "sample_lines = []\n",
    "sample_lines.append(\"[Data]\")\n",
    "sample_lines.append(\"\\t[[Sample]]\")\n",
    "\n",
    "for key in ASV_copy_dict.values():\n",
    "    reads_list.append(sum(list(key.values())))\n",
    "\n",
    "for site, key in ASV_copy_dict.items():\n",
    "    sample_lines.append(f\"{indent*2}SampleName=\\\"{site}\\\"\")\n",
    "    sample_lines.append(f\"{indent*2}SampleSize=\\\"{reads_list[i]}\\\"\")\n",
    "    sample_lines.append(\"\\t\\tSampleData={\")\n",
    "    for ASV, read in key.items():\n",
    "        sample_lines.append(f\"{indent*3}{ASV}\\t{read}\\t{ASV_dict[ASV]}\")\n",
    "    sample_lines.append(\"\\t\\t}\")\n",
    "    i += 1"
   ]
  },
  {
   "cell_type": "code",
   "execution_count": 56,
   "metadata": {},
   "outputs": [],
   "source": [
    "# Output to .arp file\n",
    "\n",
    "with open(\"COX3_arlequin.arp\",'w') as handle:\n",
    "    for line in header_lines:\n",
    "        handle.write(f\"{line}\\n\")\n",
    "    for line in sample_lines:\n",
    "        handle.write(f\"{line}\\n\")"
   ]
  }
 ],
 "metadata": {
  "kernelspec": {
   "display_name": "base",
   "language": "python",
   "name": "python3"
  },
  "language_info": {
   "codemirror_mode": {
    "name": "ipython",
    "version": 3
   },
   "file_extension": ".py",
   "mimetype": "text/x-python",
   "name": "python",
   "nbconvert_exporter": "python",
   "pygments_lexer": "ipython3",
   "version": "3.10.9"
  }
 },
 "nbformat": 4,
 "nbformat_minor": 2
}
